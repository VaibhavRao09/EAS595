{
 "cells": [
  {
   "cell_type": "code",
   "execution_count": 64,
   "metadata": {},
   "outputs": [],
   "source": [
    "def add(a, b):\n",
    "        \"Return the sum of a and b\"\n",
    "        #\"*** YOUR CODE HERE ***\"\n",
    "        return a+b"
   ]
  },
  {
   "cell_type": "markdown",
   "metadata": {},
   "source": [
    "The tests called this with a and b set to different values, but the code always returned zero. Modify this definition to return the correct output:"
   ]
  },
  {
   "cell_type": "code",
   "execution_count": 66,
   "metadata": {},
   "outputs": [],
   "source": [
    "    def add(a, b):\n",
    "        \"Return the sum of a and b\"\n",
    "        ##your code here so that the output in the following format\n",
    "        print(f\"Passed a = {a} and b = {b}, returning a + b = {a+b}\\n\")\n",
    "        return a+b"
   ]
  },
  {
   "cell_type": "code",
   "execution_count": 67,
   "metadata": {},
   "outputs": [
    {
     "name": "stdout",
     "output_type": "stream",
     "text": [
      "Passed a = 3 and b = 8, returning a + b = 11\n",
      "\n"
     ]
    },
    {
     "data": {
      "text/plain": [
       "11"
      ]
     },
     "execution_count": 67,
     "metadata": {},
     "output_type": "execute_result"
    }
   ],
   "source": [
    "add(3,8)"
   ]
  },
  {
   "cell_type": "markdown",
   "metadata": {},
   "source": [
    "Add a buyLotsOfFruit(orderList) function to buyLotsOfFruit.py which takes a list of (fruit,pound) tuples and returns the cost of your list. If there is some fruit in the list which doesn't appear in fruitPrices it should print an error message and return None. "
   ]
  },
  {
   "cell_type": "code",
   "execution_count": 74,
   "metadata": {},
   "outputs": [],
   "source": [
    "fruitPrices = {'apples':2.00, 'oranges': 1.50, 'pears': 1.75,\n",
    "              'limes':0.75, 'strawberries':1.00}\n",
    "\n",
    "def buyLotsOfFruit(orderList):\n",
    "    \"\"\"\n",
    "        orderList: List of (fruit, numPounds) tuples\n",
    "            \n",
    "    Returns cost of order\n",
    "    \"\"\" \n",
    "    totalCost = 0.0             \n",
    "    #\"*** YOUR CODE HERE ***\"\n",
    "    for fruit,numPounds in orderList:\n",
    "        '''First Check foreach fruit from the passed orderList is available in fruitPrices Dictionary else terminate \n",
    "        and return after printing ERROR'''\n",
    "        if fruit not in fruitPrices:\n",
    "            print(\"ERROR: invalid fruit.\")\n",
    "            return None\n",
    "        #Above Check fails So we are good to add up the Price * Weight \n",
    "        totalCost += fruitPrices[fruit] * numPounds\n",
    "    \n",
    "    return totalCost\n",
    "    "
   ]
  },
  {
   "cell_type": "code",
   "execution_count": 75,
   "metadata": {
    "scrolled": true
   },
   "outputs": [
    {
     "name": "stdout",
     "output_type": "stream",
     "text": [
      "ERROR: invalid fruit.\n",
      "Cost of [('apples', 2.0), ('pears', 3.0), ('avocado', 4.0)] is None\n"
     ]
    }
   ],
   "source": [
    "orderList = [ ('apples', 2.0), ('pears', 3.0), ('avocado', 4.0) ]\n",
    "print ('Cost of', orderList, 'is', buyLotsOfFruit(orderList))"
   ]
  },
  {
   "cell_type": "code",
   "execution_count": 76,
   "metadata": {},
   "outputs": [
    {
     "name": "stdout",
     "output_type": "stream",
     "text": [
      "ERROR: invalid fruit.\n",
      "Cost of [('avpc', 2.0), ('pears', 3.0), ('limes', 4.0)] is None\n"
     ]
    }
   ],
   "source": [
    "orderList = [ ('avpc', 2.0), ('pears', 3.0), ('limes', 4.0) ]\n",
    "print ('Cost of', orderList, 'is', buyLotsOfFruit(orderList))"
   ]
  },
  {
   "cell_type": "markdown",
   "metadata": {},
   "source": [
    "Fill in the function shopSmart(orders,shops) in shopSmart.py, which takes an orderList (like the kind passed in to FruitShop.getPriceOfOrder) and a list of FruitShop and returns the FruitShop where your order costs the least amount in total. Don't change the file name or variable names, please. Note that we will provide the shop.py implementation as a \"support\" file, so you don't need to submit yours."
   ]
  },
  {
   "cell_type": "code",
   "execution_count": 55,
   "metadata": {
    "scrolled": true
   },
   "outputs": [
    {
     "name": "stdout",
     "output_type": "stream",
     "text": [
      "Welcome to shop1 fruit shop\n",
      "Welcome to shop2 fruit shop\n",
      "For orders  [('apples', 1.0), ('oranges', 3.0)] , the best shop is shop1\n",
      "For orders:  [('apples', 3.0)] , the best shop is shop2\n"
     ]
    }
   ],
   "source": [
    "import shop\n",
    "\n",
    "def shopSmart(orderList, fruitShops):\n",
    "    \"\"\"\n",
    "        orderList: List of (fruit, numPound) tuples\n",
    "        fruitShops: List of FruitShops\n",
    "    \"\"\"\n",
    "    tempDict = {}\n",
    "    '''Iterate over all elements of the list \"shops\" passed from \"__main__\" '''\n",
    "    for shop in fruitShops:        \n",
    "        #print(\"DEBUG:::::::: PRICE of Order:\",shop.getPriceOfOrder(orderList), \"From Shop: \", repr(shop))\n",
    "        '''Save as a Dictionary of (shopname, priceOfOrder)'''\n",
    "        tempDict[shop] = (shop.getPriceOfOrder(orderList))\n",
    "    '''Now as tempDict is populated with the cost of order from each shop, \n",
    "       We will just return the key_value of the dictionary where the value (i.e. price of order) is minimum'''\n",
    "    bestShop = min(tempDict, key=tempDict.get)\n",
    "    #print (\"DEBUG:::::::::\" bestShop, min(tempDict.values()))\n",
    "    return bestShop\n",
    "\n",
    "    \n",
    "if __name__ == '__main__':\n",
    "  \"This code runs when you invoke the script from the command line\"\n",
    "  orders = [('apples',1.0), ('oranges',3.0)]\n",
    "  dir1 = {'apples': 2.0, 'oranges':1.0}\n",
    "  shop1 =  shop.FruitShop('shop1',dir1)\n",
    "  dir2 = {'apples': 1.0, 'oranges': 5.0}\n",
    "  shop2 = shop.FruitShop('shop2',dir2)\n",
    "  shops = [shop1, shop2]\n",
    "  print (\"For orders \", orders, \", the best shop is\", shopSmart(orders, shops).getName())\n",
    "  orders = [('apples',3.0)]\n",
    "  print (\"For orders: \", orders, \", the best shop is\", shopSmart(orders, shops).getName())"
   ]
  },
  {
   "cell_type": "code",
   "execution_count": null,
   "metadata": {},
   "outputs": [],
   "source": []
  },
  {
   "cell_type": "code",
   "execution_count": null,
   "metadata": {},
   "outputs": [],
   "source": []
  }
 ],
 "metadata": {
  "kernelspec": {
   "display_name": "Python 3",
   "language": "python",
   "name": "python3"
  },
  "language_info": {
   "codemirror_mode": {
    "name": "ipython",
    "version": 3
   },
   "file_extension": ".py",
   "mimetype": "text/x-python",
   "name": "python",
   "nbconvert_exporter": "python",
   "pygments_lexer": "ipython3",
   "version": "3.8.3"
  }
 },
 "nbformat": 4,
 "nbformat_minor": 2
}
